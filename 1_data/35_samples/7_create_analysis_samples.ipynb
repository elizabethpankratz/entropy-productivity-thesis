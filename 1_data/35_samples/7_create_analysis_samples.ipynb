{
 "cells": [
  {
   "cell_type": "markdown",
   "metadata": {},
   "source": [
    "Uses the annotations in `backform_base_cutoff/` to select the true derivations from the files in `random_subsamples/`.\n",
    "Saves the resulting samples for each suffix in `analysis_samples/`, to be used (you guessed it) for the analysis."
   ]
  },
  {
   "cell_type": "code",
   "execution_count": 2,
   "metadata": {},
   "outputs": [
    {
     "name": "stdout",
     "output_type": "stream",
     "text": [
      "Done -age\n",
      "Done -ament\n",
      "Done -and\n",
      "Done -ant\n",
      "Done -anz\n",
      "Done -ateur\n",
      "Done -ation\n",
      "Done -ator\n",
      "Done -atur\n",
      "Done -eA\n",
      "Done -el\n",
      "Done -ement\n",
      "Done -end\n",
      "Done -ent\n",
      "Done -enz\n",
      "Done -er\n",
      "Done -eur\n",
      "Done -eV\n",
      "Done -heit\n",
      "Done -ie\n",
      "Done -iker\n",
      "Done -ikum\n",
      "Done -ik\n",
      "Done -iment\n",
      "Done -ismus\n",
      "Done -ist\n",
      "Done -itaet\n",
      "Done -iteur\n",
      "Done -ition\n",
      "Done -itur\n",
      "Done -ium\n",
      "Done -ling\n",
      "Done -nis\n",
      "Done -schaft\n",
      "Done -ung\n"
     ]
    }
   ],
   "source": [
    "import pandas as pd\n",
    "import os\n",
    "import backformer_one as b\n",
    "\n",
    "# ID the files to look at and define mapping between suffix names used in annotation files and in the samples\n",
    "# (-e was not yet differentiated into -eA and -eV).\n",
    "ANNOT = os.listdir('backform_base_cutoff')\n",
    "ANNOT_SFXS = [fn.split('_')[0] for fn in ANNOT]\n",
    "SAMPLE_SFXS = ['-e' if s in ['-eA', '-eV'] else s for s in ANNOT_SFXS]\n",
    "\n",
    "# List to collect dictionaries of metadata created iteratively in following for loop.\n",
    "meta_list = []\n",
    "\n",
    "for idx in range(len(ANNOT)):\n",
    "\n",
    "    curr_sfx = ANNOT_SFXS[idx]\n",
    "\n",
    "    # Read in the annotation and sample files and postprocess.\n",
    "    annot_fn = '6_backform_base_cutoff/' + ANNOT[idx]\n",
    "    sample_fn = '2_random_subsamples/' + SAMPLE_SFXS[idx] + '_subsample.csv'\n",
    "\n",
    "    curr_samp = pd.read_csv(sample_fn)\n",
    "    curr_samp = b.prep_sfx_df(curr_samp)\n",
    "\n",
    "    curr_annot = pd.read_csv(annot_fn)\n",
    "    true_bases = curr_annot[curr_annot.true_base == 1][['lemma', 'unique_candidates', 'pos']]\n",
    "\n",
    "    # Left merge the sample with true_bases (keeps only the rows of curr_samp in which the lemma also appears in true_bases).\n",
    "    subset_samp = true_bases.merge(curr_samp, how='left')\n",
    "    subset_samp.rename(columns={'unique_candidates':'base', 'pos':'base_pos', 'morph': 'sfx'}, inplace=True)\n",
    "    subset_samp = subset_samp[['sfx', 'word', 'lemma', 'base', 'base_pos', 'doc.url', 'doc.id', 's.idx']]\n",
    "    subset_samp.to_csv('7_analysis_samples_unclean/' + curr_sfx + '_sample.csv', index=False)\n",
    "\n",
    "    print('Done', curr_sfx)"
   ]
  }
 ],
 "metadata": {
  "kernelspec": {
   "display_name": "Python 3",
   "language": "python",
   "name": "python3"
  },
  "language_info": {
   "codemirror_mode": {
    "name": "ipython",
    "version": 3
   },
   "file_extension": ".py",
   "mimetype": "text/x-python",
   "name": "python",
   "nbconvert_exporter": "python",
   "pygments_lexer": "ipython3",
   "version": "3.7.4"
  }
 },
 "nbformat": 4,
 "nbformat_minor": 2
}

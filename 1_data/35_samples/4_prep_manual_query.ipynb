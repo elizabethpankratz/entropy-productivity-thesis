{
 "cells": [
  {
   "cell_type": "markdown",
   "metadata": {},
   "source": [
    "Creates a new csv file, `bases_manual_query.csv`, with the suffix, the lemma, the base and pos to query, and the CQL query for each.\n",
    "This file will be used on the SeaCOW server to count all the remaining bases, and a later script will merge these counts with the original dataframes to produce the final samples and derivation-base pairs."
   ]
  },
  {
   "cell_type": "code",
   "execution_count": 5,
   "metadata": {},
   "outputs": [],
   "source": [
    "import pandas as pd\n",
    "import os\n",
    "\n",
    "ANNOT_FILES = [fn for fn in os.listdir('2_backform_samples_nano_annot') if fn[-14:] == 'base_annot.csv']\n",
    "SFXS = [fn.split('_')[0] for fn in ANNOT_FILES]\n",
    "\n",
    "# Define list that will iteratively collect all the to-query subsets from the individual files.\n",
    "all_to_query = []\n",
    "\n",
    "for idx in range(len(SFXS)):\n",
    "    curr_file = ANNOT_FILES[idx]\n",
    "    curr_sfx = SFXS[idx]\n",
    "    \n",
    "    # Grab only those rows from data for current suffix with some value for query_by_hand.\n",
    "    curr_df = pd.read_csv('2_backform_samples_nano_annot/' + curr_file)\n",
    "    curr_to_query = curr_df[~curr_df.query_by_hand.isna()].reset_index(drop=True)\n",
    "    \n",
    "    # Add some new columns: the CQL query and the suffix.\n",
    "    curr_to_query['sfx'] = curr_sfx\n",
    "    curr_to_query['cql'] = ['[lemma=\"%s\" & tag=\"%s\"] within <s/>' % z for z in list(zip(curr_df.query_by_hand.dropna(), curr_df.query_pos.dropna()))]\n",
    "#     curr_to_query = curr_to_query[['sfx', 'lemma', 'query_by_hand', 'query_pos', 'cql']]\n",
    "    \n",
    "    all_to_query.append(curr_to_query)\n",
    "\n",
    "# Concat list of dfs into one single df, save as csv.\n",
    "pd.concat(all_to_query).to_csv('bases_manual_query2.csv', index=False)"
   ]
  }
 ],
 "metadata": {
  "kernelspec": {
   "display_name": "Python 3",
   "language": "python",
   "name": "python3"
  },
  "language_info": {
   "codemirror_mode": {
    "name": "ipython",
    "version": 3
   },
   "file_extension": ".py",
   "mimetype": "text/x-python",
   "name": "python",
   "nbconvert_exporter": "python",
   "pygments_lexer": "ipython3",
   "version": "3.7.4"
  }
 },
 "nbformat": 4,
 "nbformat_minor": 2
}

{
 "cells": [
  {
   "cell_type": "markdown",
   "metadata": {},
   "source": [
    "Computes the frequency, and via frequency the probability, of all bigraphs that appear in monomorphemic German words."
   ]
  },
  {
   "cell_type": "code",
   "execution_count": 1,
   "metadata": {},
   "outputs": [],
   "source": [
    "import pandas as pd"
   ]
  },
  {
   "cell_type": "code",
   "execution_count": 2,
   "metadata": {},
   "outputs": [],
   "source": [
    "def get_bigraph_freq(df, tokenbased=True):\n",
    "    \"\"\"\n",
    "    \n",
    "    Args:\n",
    "        df: pandas dataframe with the columns lemma, POS, and freq (subset of simplex_filtered3.csv).\n",
    "        tokenbased: bool indicating whether the bigraph frequency is multipled by the token counts (default: True)\n",
    "    Returns:\n",
    "        Pandas df with the columns bigraph, freq, and proportion out of all bigraphs in that df\n",
    "    \"\"\"\n",
    "    \n",
    "    bigraphs_list = []\n",
    "    \n",
    "    for idx, row in df.iterrows():\n",
    "        curr_lemma = row['lemma']\n",
    "        \n",
    "        # Get the two-character strings in each lemma and, if tokenbased=True, \n",
    "        # associate each bigraph with the original lemma's frequency value.\n",
    "        # Otherwise just count it once.\n",
    "        # (Thanks https://stackoverflow.com/questions/21844546/forming-bigrams-of-words-in-list-of-sentences-with-python/21844800#21844800 )\n",
    "\n",
    "        if tokenbased:        \n",
    "            curr_bigraphs = [{'bigraph':b[0]+b[1], 'freq':row['freq']} for b in zip(curr_lemma[:-1], curr_lemma[1:])]        \n",
    "        else:\n",
    "            curr_bigraphs = [{'bigraph':b[0]+b[1], 'freq':1} for b in zip(curr_lemma[:-1], curr_lemma[1:])]\n",
    "            \n",
    "        bigraphs_list.extend(curr_bigraphs)\n",
    "        \n",
    "    # Convert the list of dictionaries in bigraphs_list into a dataframe and sum the counts for each bigraph.\n",
    "    # Add proportion.\n",
    "    bigraphs_df = pd.DataFrame(bigraphs_list).groupby(['bigraph']).sum().reset_index()\n",
    "    bigraphs_df['propn'] = bigraphs_df['freq']/bigraphs_df['freq'].sum()\n",
    "    \n",
    "    return bigraphs_df"
   ]
  },
  {
   "cell_type": "code",
   "execution_count": 2,
   "metadata": {},
   "outputs": [],
   "source": [
    "# Read in the df.\n",
    "simplex_df = pd.read_csv('outfiles/simplex_filtered3.csv')\n",
    "\n",
    "# Lowercase lemmas.\n",
    "simplex_df['lemma'] = simplex_df['lemma'].str.lower()\n",
    "\n",
    "# Get the frequency of each bigraph for all POSs.\n",
    "get_bigraph_freq(simplex_df).to_csv('junc_data/junctures_tokenbased.csv', index=False)"
   ]
  }
 ],
 "metadata": {
  "kernelspec": {
   "display_name": "Python 3",
   "language": "python",
   "name": "python3"
  },
  "language_info": {
   "codemirror_mode": {
    "name": "ipython",
    "version": 3
   },
   "file_extension": ".py",
   "mimetype": "text/x-python",
   "name": "python",
   "nbconvert_exporter": "python",
   "pygments_lexer": "ipython3",
   "version": "3.7.4"
  }
 },
 "nbformat": 4,
 "nbformat_minor": 2
}

{
 "cells": [
  {
   "cell_type": "markdown",
   "metadata": {},
   "source": [
    "Merges the manual annotations in `infiles/simplex_filtered2_annotated.csv` with `outfiles/simplex_filtered2.csv` to create `outfiles/simplex_filtered3.csv`, a file that should contain mainly simplexes, their POS, and their frequency in DECOW16B."
   ]
  },
  {
   "cell_type": "code",
   "execution_count": 1,
   "metadata": {},
   "outputs": [],
   "source": [
    "import pandas as pd\n",
    "\n",
    "filt2 = pd.read_csv('outfiles/simplex_filtered2.csv')\n",
    "annot = pd.read_csv('infiles/simplex_filtered2_annotated.csv')\n",
    "\n",
    "# Merge the two dataframes, adding the 'simplex' column onto filt2.\n",
    "filt3 = filt2.merge(annot)\n",
    "\n",
    "# Only keep those rows in which simplex == 1, remove now-redundant col, and save to csv.\n",
    "filt3[ filt3['simplex'] == 1 ].drop(columns=['simplex']).to_csv('outfiles/simplex_filtered3.csv', index=False)"
   ]
  }
 ],
 "metadata": {
  "kernelspec": {
   "display_name": "Python 3",
   "language": "python",
   "name": "python3"
  },
  "language_info": {
   "codemirror_mode": {
    "name": "ipython",
    "version": 3
   },
   "file_extension": ".py",
   "mimetype": "text/x-python",
   "name": "python",
   "nbconvert_exporter": "python",
   "pygments_lexer": "ipython3",
   "version": "3.7.4"
  }
 },
 "nbformat": 4,
 "nbformat_minor": 2
}
